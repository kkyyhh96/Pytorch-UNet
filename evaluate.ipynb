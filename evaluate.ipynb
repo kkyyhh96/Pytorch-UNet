{
 "cells": [
  {
   "cell_type": "code",
   "execution_count": 11,
   "metadata": {},
   "outputs": [],
   "source": [
    "import dice_loss\n",
    "import torch\n",
    "import cv2\n",
    "import numpy as np\n",
    "from torch import nn"
   ]
  },
  {
   "cell_type": "code",
   "execution_count": 2,
   "metadata": {},
   "outputs": [],
   "source": [
    "def preprocess(pil_img, scale):\n",
    "    h, w = pil_img.shape[0], pil_img.shape[1]\n",
    "    newW, newH = int(scale * w), int(scale * h)\n",
    "    assert newW > 0 and newH > 0, 'Scale is too small'\n",
    "    pil_img = cv2.resize(pil_img,(newW, newH))\n",
    "\n",
    "    img_nd = np.array(pil_img)\n",
    "\n",
    "    if len(img_nd.shape) == 2:\n",
    "        img_nd = np.expand_dims(img_nd, axis=2)\n",
    "\n",
    "    # HWC to CHW\n",
    "    img_trans = img_nd.transpose((2, 0, 1))\n",
    "    if img_trans.max() > 1:\n",
    "        img_trans = img_trans / 255\n",
    "\n",
    "    return img_trans"
   ]
  },
  {
   "cell_type": "code",
   "execution_count": 24,
   "metadata": {},
   "outputs": [
    {
     "data": {
      "text/plain": [
       "1.0"
      ]
     },
     "execution_count": 24,
     "metadata": {},
     "output_type": "execute_result"
    }
   ],
   "source": [
    "input_img = cv2.imread('../data/chicago_dataset/chicago_dataset_simplebinary/00067203_00164670.png', cv2.IMREAD_UNCHANGED)/255\n",
    "output_img = cv2.imread('../data/chicago_dataset/chicago_dataset_simplebinary/00067203_00164670.png', cv2.IMREAD_UNCHANGED)/255\n",
    "\n",
    "input_img = torch.from_numpy(input_img).type(torch.FloatTensor)\n",
    "output_img = torch.from_numpy(output_img).type(torch.FloatTensor)\n",
    "\n",
    "dice_loss.dice_coeff(input_img, output_img).item()"
   ]
  },
  {
   "cell_type": "code",
   "execution_count": 30,
   "metadata": {},
   "outputs": [
    {
     "data": {
      "text/plain": [
       "0.0"
      ]
     },
     "execution_count": 30,
     "metadata": {},
     "output_type": "execute_result"
    }
   ],
   "source": [
    "criterion = nn.MSELoss()\n",
    "loss = torch.sqrt(criterion(input_img, output_img))\n",
    "float(loss.data.cpu().numpy())"
   ]
  },
  {
   "cell_type": "code",
   "execution_count": null,
   "metadata": {},
   "outputs": [],
   "source": [
    "nn."
   ]
  }
 ],
 "metadata": {
  "kernelspec": {
   "display_name": "Python 3",
   "language": "python",
   "name": "python3"
  },
  "language_info": {
   "codemirror_mode": {
    "name": "ipython",
    "version": 3
   },
   "file_extension": ".py",
   "mimetype": "text/x-python",
   "name": "python",
   "nbconvert_exporter": "python",
   "pygments_lexer": "ipython3",
   "version": "3.8.3"
  }
 },
 "nbformat": 4,
 "nbformat_minor": 4
}
